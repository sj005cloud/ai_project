{
 "cells": [
  {
   "cell_type": "code",
   "execution_count": 1,
   "id": "f0e997a8",
   "metadata": {},
   "outputs": [],
   "source": [
    "import pandas as pd\n",
    "import numpy as np\n",
    "import matplotlib.pyplot as plt\n",
    "from sklearn.neighbors import NearestNeighbors\n",
    "from sklearn.model_selection import train_test_split\n",
    "from sklearn.tree import DecisionTreeClassifier\n",
    "from sklearn.ensemble import RandomForestClassifier\n",
    "import joblib\n"
   ]
  },
  {
   "cell_type": "code",
   "execution_count": 6,
   "id": "9a7e947f",
   "metadata": {},
   "outputs": [
    {
     "name": "stdout",
     "output_type": "stream",
     "text": [
      "Parking Spot Data:\n",
      "   SpotID  Latitude  Longitude         Area\n",
      "0     A1   28.6139    77.2090    Main Gate\n",
      "1     B2   28.6145    77.2101      Library\n",
      "2     C3   28.6150    77.2120      Canteen\n",
      "3     D4   28.6165    77.2135  Admin Block\n",
      "4     E5   28.6170    77.2150       Hostel\n",
      "\n",
      "Historical Occupancy Data:\n",
      "          Date       Time     Day SpotID  Occupancy         Area\n",
      "0  2025-04-01    Morning  Monday     A1          1    Main Gate\n",
      "1  2025-04-01    Morning  Monday     B2          0      Library\n",
      "2  2025-04-01  Afternoon  Monday     C3          1      Canteen\n",
      "3  2025-04-01    Evening  Monday     D4          0  Admin Block\n",
      "4  2025-04-01    Morning  Monday     E5          1       Hostel\n"
     ]
    }
   ],
   "source": [
    "import pandas as pd\n",
    "\n",
    "spots_df = pd.read_csv('data/parkingspots.csv')\n",
    "history_df = pd.read_csv('data/historicaloccupency.csv')\n",
    "\n",
    "print(\"Parking Spot Data:\\n\", spots_df.head())\n",
    "print(\"\\nHistorical Occupancy Data:\\n\", history_df.head())\n"
   ]
  }
 ],
 "metadata": {
  "kernelspec": {
   "display_name": "Python 3 (venv)",
   "language": "python",
   "name": "venv"
  }
 },
 "nbformat": 4,
 "nbformat_minor": 5
}
